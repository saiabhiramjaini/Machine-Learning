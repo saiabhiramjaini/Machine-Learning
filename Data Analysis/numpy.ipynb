{
 "cells": [
  {
   "cell_type": "markdown",
   "metadata": {},
   "source": [
    "#### Numpy is like a supercharged version of lists in Python. It allows you to do mathematical operations on large amounts of data very quickly and efficiently. It provides support for arrays, matrices, and a collection of mathematical functions to operate on these arrays."
   ]
  },
  {
   "cell_type": "markdown",
   "metadata": {},
   "source": [
    "**importing numpy**"
   ]
  },
  {
   "cell_type": "code",
   "execution_count": 84,
   "metadata": {},
   "outputs": [],
   "source": [
    "import numpy as np"
   ]
  },
  {
   "cell_type": "markdown",
   "metadata": {},
   "source": [
    "#### understanding the importance of numpy"
   ]
  },
  {
   "cell_type": "code",
   "execution_count": 85,
   "metadata": {},
   "outputs": [],
   "source": [
    "import time"
   ]
  },
  {
   "cell_type": "markdown",
   "metadata": {},
   "source": [
    "**with normal python**"
   ]
  },
  {
   "cell_type": "code",
   "execution_count": 86,
   "metadata": {},
   "outputs": [
    {
     "name": "stdout",
     "output_type": "stream",
     "text": [
      "Average score using normal Python methods: 79.83333333333333\n",
      "Time taken using normal Python methods: 3.409385681152344e-05\n"
     ]
    }
   ],
   "source": [
    "scores = [78, 85, 62, 90, 88, 76]\n",
    "\n",
    "start_time = time.time()\n",
    "average_score = sum(scores) / len(scores)\n",
    "end_time = time.time()\n",
    "python_time = end_time - start_time\n",
    "\n",
    "print(\"Average score using normal Python methods:\", average_score)\n",
    "print(\"Time taken using normal Python methods:\", python_time)"
   ]
  },
  {
   "cell_type": "markdown",
   "metadata": {},
   "source": [
    "**with numpy**"
   ]
  },
  {
   "cell_type": "code",
   "execution_count": 87,
   "metadata": {},
   "outputs": [
    {
     "name": "stdout",
     "output_type": "stream",
     "text": [
      "Average score using numpy: 79.83333333333333\n",
      "Time taken using numpy: 7.796287536621094e-05\n"
     ]
    }
   ],
   "source": [
    "scores = np.array([78, 85, 62, 90, 88, 76])\n",
    "\n",
    "start_time = time.time()\n",
    "average_score = np.mean(scores)\n",
    "end_time = time.time()\n",
    "numpy_time = end_time - start_time\n",
    "\n",
    "print(\"Average score using numpy:\", average_score)\n",
    "print(\"Time taken using numpy:\", numpy_time)\n"
   ]
  },
  {
   "cell_type": "markdown",
   "metadata": {},
   "source": [
    "#### np.arange():\n",
    "\n",
    "np.arange() is a function in NumPy used to create an array with regularly spaced values within a specified range. Its syntax is:\n",
    "\n",
    "**numpy.arange([start, ]stop, [step, ]dtype=None)**\n",
    "\n",
    "- `start`: Optional. The start of the interval (inclusive). Default is 0.\n",
    "- `stop`: The end of the interval (exclusive).\n",
    "- `step`: Optional. The step size between values. Default is 1.\n",
    "- `dtype`: Optional. The data type of the array. If not specified, the data type is inferred from the other input arguments."
   ]
  },
  {
   "cell_type": "code",
   "execution_count": 88,
   "metadata": {},
   "outputs": [
    {
     "name": "stdout",
     "output_type": "stream",
     "text": [
      "[0 1 2 3 4 5 6 7 8 9]\n"
     ]
    }
   ],
   "source": [
    "# Create an array from 0 to 9\n",
    "arr = np.arange(10)\n",
    "print(arr)  # Output: [0 1 2 3 4 5 6 7 8 9]"
   ]
  },
  {
   "cell_type": "markdown",
   "metadata": {},
   "source": [
    "#### NumPy Arrays (ndarrays):\n",
    "\n",
    "NumPy arrays, or ndarrays, are the primary data structure used in NumPy. They are homogeneous collections of elements with fixed dimensions and have many similarities to Python lists but with additional functionality optimized for numerical computing."
   ]
  },
  {
   "cell_type": "code",
   "execution_count": 89,
   "metadata": {},
   "outputs": [
    {
     "name": "stdout",
     "output_type": "stream",
     "text": [
      "[1 2 3 4 5]\n",
      "1\n",
      "[[1 2 3]\n",
      " [4 5 6]\n",
      " [7 8 9]]\n"
     ]
    }
   ],
   "source": [
    "# Create a 1D array\n",
    "arr_1d = np.array([1, 2, 3, 4, 5])\n",
    "print(arr_1d)       # Output: [1 2 3 4 5]\n",
    "print(arr_1d[0])    # Output: 1\n",
    "\n",
    "\n",
    "# Create a 2D array\n",
    "arr_2d = np.array([[1, 2, 3],\n",
    "                   [4, 5, 6],\n",
    "                   [7, 8, 9]])\n",
    "print(arr_2d)"
   ]
  },
  {
   "cell_type": "markdown",
   "metadata": {},
   "source": [
    "## Properties of nd Arrays"
   ]
  },
  {
   "cell_type": "markdown",
   "metadata": {},
   "source": [
    "**1. Shape:**\n",
    "\n",
    "The shape of an ndarray describes the size of each dimension of the array. It is represented as a tuple of integers indicating the number of elements along each dimension."
   ]
  },
  {
   "cell_type": "code",
   "execution_count": 90,
   "metadata": {},
   "outputs": [
    {
     "name": "stdout",
     "output_type": "stream",
     "text": [
      "Shape of the array: (2, 3)\n"
     ]
    }
   ],
   "source": [
    "# Create a 2D array\n",
    "arr_2d = np.array([[1, 2, 3], [4, 5, 6]])\n",
    "\n",
    "# Print the shape\n",
    "print(\"Shape of the array:\", arr_2d.shape)  # Output: (2, 3)"
   ]
  },
  {
   "cell_type": "markdown",
   "metadata": {},
   "source": [
    "**2. Data Type (dtype):**\n",
    "\n",
    "The data type of an ndarray specifies the type of elements stored in the array. NumPy arrays can hold elements of different types such as integers, floats, booleans, etc."
   ]
  },
  {
   "cell_type": "code",
   "execution_count": 91,
   "metadata": {},
   "outputs": [
    {
     "name": "stdout",
     "output_type": "stream",
     "text": [
      "Data type of the array: float32\n"
     ]
    }
   ],
   "source": [
    "# Create an array with a specific data type\n",
    "arr_float = np.array([1.1, 2.2, 3.3], dtype=np.float32)\n",
    "# Print the data type\n",
    "print(\"Data type of the array:\", arr_float.dtype)  # Output: float32"
   ]
  },
  {
   "cell_type": "markdown",
   "metadata": {},
   "source": [
    "**3. Size:**\n",
    "\n",
    "The size of an ndarray is the total number of elements in the array. It is equal to the product of the dimensions of the array."
   ]
  },
  {
   "cell_type": "code",
   "execution_count": 92,
   "metadata": {},
   "outputs": [
    {
     "name": "stdout",
     "output_type": "stream",
     "text": [
      "[[[0. 0. 0. 0.]\n",
      "  [0. 0. 0. 0.]\n",
      "  [0. 0. 0. 0.]]\n",
      "\n",
      " [[0. 0. 0. 0.]\n",
      "  [0. 0. 0. 0.]\n",
      "  [0. 0. 0. 0.]]]\n",
      "Size of the array: 24\n"
     ]
    }
   ],
   "source": [
    "# Create a 3D array\n",
    "arr_3d = np.zeros((2, 3, 4))\n",
    "print(arr_3d)\n",
    "\n",
    "# Print the size\n",
    "print(\"Size of the array:\", arr_3d.size)  # Output: 24 (2 * 3 * 4)"
   ]
  },
  {
   "cell_type": "markdown",
   "metadata": {},
   "source": [
    "**4. Number of Dimensions (ndim):**\n",
    "\n",
    "The ndim attribute of an ndarray specifies the number of dimensions or axes of the array."
   ]
  },
  {
   "cell_type": "code",
   "execution_count": 93,
   "metadata": {},
   "outputs": [
    {
     "name": "stdout",
     "output_type": "stream",
     "text": [
      "Number of dimensions: 4\n"
     ]
    }
   ],
   "source": [
    "# Create a 4D array\n",
    "arr_4d = np.ones((2, 3, 4, 5))\n",
    "\n",
    "# Print the number of dimensions\n",
    "print(\"Number of dimensions:\", arr_4d.ndim)  # Output: 4"
   ]
  },
  {
   "cell_type": "markdown",
   "metadata": {},
   "source": [
    "**5. Itemsize:**\n",
    "\n",
    "The itemsize attribute of an ndarray specifies the size of each element in bytes."
   ]
  },
  {
   "cell_type": "code",
   "execution_count": 94,
   "metadata": {},
   "outputs": [
    {
     "name": "stdout",
     "output_type": "stream",
     "text": [
      "int64\n",
      "Size of each element (in bytes): 8\n"
     ]
    }
   ],
   "source": [
    "# Create an array of integers\n",
    "arr_int = np.array([1, 2, 3])\n",
    "print(arr_int.dtype)\n",
    "# Print the item size\n",
    "print(\"Size of each element (in bytes):\", arr_int.itemsize)  # Output: 8 (for 64-bit integer)"
   ]
  },
  {
   "cell_type": "markdown",
   "metadata": {},
   "source": [
    "**NumPy Data Types (dtypes):**\n",
    "\n",
    "NumPy provides a variety of data types to represent different kinds of numerical data. These data types are important for controlling memory usage and ensuring data integrity in numerical computations.\n",
    "\n",
    "**Common NumPy Data Types:**\n",
    "\n",
    "- **int**: Integer (default size depends on the platform).\n",
    "- **float**: Floating point number (default size depends on the platform).\n",
    "- **bool**: Boolean (True or False).\n",
    "- **complex**: Complex number with real and imaginary parts.\n",
    "- **uint**: Unsigned integer (no negative values).\n",
    "\n",
    "**Specifying Data Types:**\n",
    "\n",
    "You can specify the data type of an ndarray using the `dtype` parameter of NumPy functions or by providing the data type as an argument to the array creation functions."
   ]
  },
  {
   "cell_type": "code",
   "execution_count": 95,
   "metadata": {},
   "outputs": [
    {
     "name": "stdout",
     "output_type": "stream",
     "text": [
      "Data type of arr_int32: int32\n",
      "Data type of arr_float64: float64\n"
     ]
    }
   ],
   "source": [
    "# Create an array with a specific data type\n",
    "arr_int32 = np.array([1, 2, 3], dtype=np.int32)\n",
    "arr_float64 = np.array([1.1, 2.2, 3.3], dtype=np.float64)\n",
    "\n",
    "print(\"Data type of arr_int32:\", arr_int32.dtype)   # Output: int32\n",
    "print(\"Data type of arr_float64:\", arr_float64.dtype)   # Output: float64"
   ]
  },
  {
   "cell_type": "markdown",
   "metadata": {},
   "source": [
    "**Impact of Precision on Memory Usage:**"
   ]
  },
  {
   "cell_type": "code",
   "execution_count": 96,
   "metadata": {},
   "outputs": [
    {
     "name": "stdout",
     "output_type": "stream",
     "text": [
      "Memory usage of arr_float32: 12 bytes\n",
      "Memory usage of arr_float64: 24 bytes\n"
     ]
    }
   ],
   "source": [
    "# Create arrays with different data types\n",
    "arr_float32 = np.array([1.1, 2.2, 3.3], dtype=np.float32)\n",
    "arr_float64 = np.array([1.1, 2.2, 3.3], dtype=np.float64)\n",
    "\n",
    "print(\"Memory usage of arr_float32:\", arr_float32.itemsize * arr_float32.size, \"bytes\")  # Output: 12 bytes (3 elements * 4 bytes/element)\n",
    "print(\"Memory usage of arr_float64:\", arr_float64.itemsize * arr_float64.size, \"bytes\")  # Output: 24 bytes (3 elements * 8 bytes/element)"
   ]
  },
  {
   "cell_type": "markdown",
   "metadata": {},
   "source": [
    "## np.zeros, np.ones, np.full:"
   ]
  },
  {
   "cell_type": "markdown",
   "metadata": {},
   "source": [
    "**np.zeros:**\n",
    "\n",
    "`np.zeros` creates an array filled with zeros. It takes the shape of the desired array as input and returns an array of that shape filled with zeros.\n",
    "\n",
    "Syntax:\n",
    "```python\n",
    "numpy.zeros(shape, dtype=float)\n",
    "```\n",
    "\n",
    "- `shape`: The shape of the array (tuple of integers).\n",
    "- `dtype`: Optional. The data type of the array. Default is `float`."
   ]
  },
  {
   "cell_type": "code",
   "execution_count": 97,
   "metadata": {},
   "outputs": [
    {
     "name": "stdout",
     "output_type": "stream",
     "text": [
      "[[0. 0. 0.]\n",
      " [0. 0. 0.]]\n"
     ]
    }
   ],
   "source": [
    "# Create a 2x3 array filled with zeros\n",
    "zeros_array = np.zeros((2, 3))\n",
    "print(zeros_array)"
   ]
  },
  {
   "cell_type": "markdown",
   "metadata": {},
   "source": [
    "**np.ones:**\n",
    "\n",
    "`np.ones` creates an array filled with ones. Similar to `np.zeros`, it takes the shape of the desired array as input and returns an array of that shape filled with ones.\n",
    "\n",
    "Syntax:\n",
    "```python\n",
    "numpy.ones(shape, dtype=None)\n",
    "```\n",
    "\n",
    "- `shape`: The shape of the array (tuple of integers).\n",
    "- `dtype`: Optional. The data type of the array. If not specified, the default is determined by the data type of `1`."
   ]
  },
  {
   "cell_type": "code",
   "execution_count": 98,
   "metadata": {},
   "outputs": [
    {
     "name": "stdout",
     "output_type": "stream",
     "text": [
      "[[1. 1.]\n",
      " [1. 1.]\n",
      " [1. 1.]]\n"
     ]
    }
   ],
   "source": [
    "# Create a 3x2 array filled with ones\n",
    "ones_array = np.ones((3, 2))\n",
    "print(ones_array)"
   ]
  },
  {
   "cell_type": "markdown",
   "metadata": {},
   "source": [
    "**np.full:**\n",
    "\n",
    "`np.full` creates an array filled with a specified constant value. It takes the shape of the desired array and the constant value as input and returns an array of that shape filled with the specified value.\n",
    "\n",
    "Syntax:\n",
    "```python\n",
    "numpy.full(shape, fill_value, dtype=None)\n",
    "```\n",
    "\n",
    "- `shape`: The shape of the array (tuple of integers).\n",
    "- `fill_value`: The constant value to fill the array with.\n",
    "- `dtype`: Optional. The data type of the array. If not specified, the default is determined by the data type of `fill_value`.\n"
   ]
  },
  {
   "cell_type": "code",
   "execution_count": 99,
   "metadata": {},
   "outputs": [
    {
     "name": "stdout",
     "output_type": "stream",
     "text": [
      "[[4.5 4.5]\n",
      " [4.5 4.5]]\n"
     ]
    }
   ],
   "source": [
    "# Create a 2x2 array filled with 5\n",
    "full_array = np.full((2, 2), 4.5)\n",
    "print(full_array)"
   ]
  },
  {
   "cell_type": "markdown",
   "metadata": {},
   "source": [
    "## Array Operations - NumPy"
   ]
  },
  {
   "cell_type": "markdown",
   "metadata": {},
   "source": [
    "**1. Arithmetic Operations:**"
   ]
  },
  {
   "cell_type": "code",
   "execution_count": 100,
   "metadata": {},
   "outputs": [
    {
     "name": "stdout",
     "output_type": "stream",
     "text": [
      "Addition: [5 7 9]\n",
      "Subtraction: [3 3 6]\n",
      "Multiplication: [ 6 12 20]\n",
      "Division: [5. 4. 7.]\n",
      "Modulus: [1 3 2]\n",
      "Exponentiation: [ 4 27 16]\n"
     ]
    }
   ],
   "source": [
    "# Addition\n",
    "arr_sum = np.add([1, 2, 3], [4, 5, 6])\n",
    "print(\"Addition:\", arr_sum)  # Output: [5 7 9]\n",
    "\n",
    "# Subtraction\n",
    "arr_diff = np.subtract([5, 6, 7], [2, 3, 1])\n",
    "print(\"Subtraction:\", arr_diff)  # Output: [3 3 6]\n",
    "\n",
    "# Multiplication\n",
    "arr_prod = np.multiply([2, 3, 4], [3, 4, 5])\n",
    "print(\"Multiplication:\", arr_prod)  # Output: [ 6 12 20]\n",
    "\n",
    "# Division\n",
    "arr_div = np.divide([10, 12, 14], [2, 3, 2])\n",
    "print(\"Division:\", arr_div)  # Output: [5. 4. 7.]\n",
    "\n",
    "# Modulus\n",
    "arr_mod = np.mod([10, 11, 12], [3, 4, 5])\n",
    "print(\"Modulus:\", arr_mod)  # Output: [1 3 2]\n",
    "\n",
    "# Exponentiation\n",
    "arr_pow = np.power([2, 3, 4], [2, 3, 2])\n",
    "print(\"Exponentiation:\", arr_pow)  # Output: [ 4 27 16]"
   ]
  },
  {
   "cell_type": "markdown",
   "metadata": {},
   "source": [
    "**2. Relational Operations:**"
   ]
  },
  {
   "cell_type": "code",
   "execution_count": 101,
   "metadata": {},
   "outputs": [
    {
     "name": "stdout",
     "output_type": "stream",
     "text": [
      "Equal: [False  True False False]\n",
      "Not Equal: [ True False  True  True]\n",
      "Greater Than: [False False False  True]\n",
      "Greater Than or Equal To: [False  True False  True]\n",
      "Less Than: [ True False  True False]\n",
      "Less Than or Equal To: [ True  True  True False]\n"
     ]
    }
   ],
   "source": [
    "# Create sample arrays\n",
    "arr1 = np.array([1, 2, 3, 4])\n",
    "arr2 = np.array([2, 2, 4, 3])\n",
    "\n",
    "# Equal\n",
    "print(\"Equal:\", arr1 == arr2)  # Output: [False  True False False]\n",
    "\n",
    "# Not Equal\n",
    "print(\"Not Equal:\", arr1 != arr2)  # Output: [ True False  True  True]\n",
    "\n",
    "# Greater Than\n",
    "print(\"Greater Than:\", arr1 > arr2)  # Output: [False False False  True]\n",
    "\n",
    "# Greater Than or Equal To\n",
    "print(\"Greater Than or Equal To:\", arr1 >= arr2)  # Output: [False  True False  True]\n",
    "\n",
    "# Less Than\n",
    "print(\"Less Than:\", arr1 < arr2)  # Output: [ True False False False]\n",
    "\n",
    "# Less Than or Equal To\n",
    "print(\"Less Than or Equal To:\", arr1 <= arr2)  # Output: [ True  True  True False]"
   ]
  },
  {
   "cell_type": "markdown",
   "metadata": {},
   "source": [
    "## Indexing and Slicing for 1D Arrays"
   ]
  },
  {
   "cell_type": "markdown",
   "metadata": {},
   "source": [
    "**1. Indexing:**\n",
    "\n",
    "Indexing refers to accessing individual elements of an array using their position (index) within the array. In NumPy, indexing starts from 0, so the first element has index 0, the second element has index 1, and so on."
   ]
  },
  {
   "cell_type": "code",
   "execution_count": 102,
   "metadata": {},
   "outputs": [
    {
     "name": "stdout",
     "output_type": "stream",
     "text": [
      "First element: 1\n",
      "Second element: 2\n",
      "Last element: 5\n"
     ]
    }
   ],
   "source": [
    "# Create a 1D array\n",
    "arr = np.array([1, 2, 3, 4, 5])\n",
    "\n",
    "# Access individual elements using indexing\n",
    "print(\"First element:\", arr[0])   # Output: 1\n",
    "print(\"Second element:\", arr[1])  # Output: 2\n",
    "print(\"Last element:\", arr[-1])   # Output: 5 (negative indexing)"
   ]
  },
  {
   "cell_type": "markdown",
   "metadata": {},
   "source": [
    "**2. Slicing:**\n",
    "\n",
    "Slicing allows you to extract a subset of elements from an array by specifying a range of indices. The basic syntax for slicing is `start:stop:step`, where `start` is the starting index (inclusive), `stop` is the ending index (exclusive), and `step` is the step size."
   ]
  },
  {
   "cell_type": "code",
   "execution_count": 103,
   "metadata": {},
   "outputs": [
    {
     "name": "stdout",
     "output_type": "stream",
     "text": [
      "Slice: [2 3]\n",
      "Slice with step: [1 3]\n"
     ]
    }
   ],
   "source": [
    "# Create a 1D array\n",
    "arr = np.array([1, 2, 3, 4, 5])\n",
    "\n",
    "# Slice elements from index 1 to index 3 (exclusive)\n",
    "print(\"Slice:\", arr[1:3])  # Output: [2 3]\n",
    "\n",
    "# Slice elements from index 0 to index 4 with step size 2\n",
    "print(\"Slice with step:\", arr[0:4:2])  # Output: [1 3]"
   ]
  },
  {
   "cell_type": "markdown",
   "metadata": {},
   "source": [
    "**3. Negative Indexing:**\n",
    "\n",
    "Negative indexing allows you to access elements from the end of the array by specifying negative indices. `-1` refers to the last element, `-2` refers to the second last element, and so on."
   ]
  },
  {
   "cell_type": "code",
   "execution_count": 104,
   "metadata": {},
   "outputs": [
    {
     "name": "stdout",
     "output_type": "stream",
     "text": [
      "Last element: 5\n"
     ]
    }
   ],
   "source": [
    "# Create a 1D array\n",
    "arr = np.array([1, 2, 3, 4, 5])\n",
    "\n",
    "# Access the last element using negative indexing\n",
    "print(\"Last element:\", arr[-1])  # Output: 5"
   ]
  },
  {
   "cell_type": "markdown",
   "metadata": {},
   "source": [
    "**4. Slicing with Omitted Indices:**\n",
    "\n",
    "You can omit any of the slicing parameters to use default values. Omitting `start` defaults to 0, omitting `stop` defaults to the end of the array, and omitting `step` defaults to 1."
   ]
  },
  {
   "cell_type": "code",
   "execution_count": 105,
   "metadata": {},
   "outputs": [
    {
     "name": "stdout",
     "output_type": "stream",
     "text": [
      "Slice with omitted start: [1 2 3]\n",
      "Slice with omitted stop: [3 4 5]\n",
      "Slice with omitted step: [1 3 5]\n"
     ]
    }
   ],
   "source": [
    "# Create a 1D array\n",
    "arr = np.array([1, 2, 3, 4, 5])\n",
    "\n",
    "# Slice elements from the beginning to index 3 (exclusive)\n",
    "print(\"Slice with omitted start:\", arr[:3])  # Output: [1 2 3]\n",
    "\n",
    "# Slice elements from index 2 to the end\n",
    "print(\"Slice with omitted stop:\", arr[2:])  # Output: [3 4 5]\n",
    "\n",
    "# Slice elements with step size 2\n",
    "print(\"Slice with omitted step:\", arr[::2])  # Output: [1 3 5]"
   ]
  },
  {
   "cell_type": "markdown",
   "metadata": {},
   "source": [
    "\n",
    "## Indexing and Slicing for 2D Arrays"
   ]
  },
  {
   "cell_type": "markdown",
   "metadata": {},
   "source": [
    "**1. Indexing:**\n",
    "\n",
    "Indexing refers to accessing individual elements of an array using their position (index) within the array. In a 2D array, indexing is done using row and column indices."
   ]
  },
  {
   "cell_type": "code",
   "execution_count": 106,
   "metadata": {},
   "outputs": [
    {
     "name": "stdout",
     "output_type": "stream",
     "text": [
      "Element at (0, 0): 1\n",
      "Element at (1, 2): 6\n"
     ]
    }
   ],
   "source": [
    "# Create a 2D array\n",
    "arr = np.array([[1, 2, 3],\n",
    "                [4, 5, 6],\n",
    "                [7, 8, 9]])\n",
    "\n",
    "# Access individual elements using indexing\n",
    "print(\"Element at (0, 0):\", arr[0, 0])  # Output: 1\n",
    "print(\"Element at (1, 2):\", arr[1, 2])  # Output: 6"
   ]
  },
  {
   "cell_type": "markdown",
   "metadata": {},
   "source": [
    "**2. Slicing:**\n",
    "\n",
    "Slicing allows you to extract a subset of elements from an array by specifying ranges of row and column indices. The basic syntax for slicing is `start:stop:step`, where `start` is the starting index (inclusive), `stop` is the ending index (exclusive), and `step` is the step size."
   ]
  },
  {
   "cell_type": "code",
   "execution_count": 107,
   "metadata": {},
   "outputs": [
    {
     "name": "stdout",
     "output_type": "stream",
     "text": [
      "Slice: [[2 3]\n",
      " [5 6]]\n",
      "Modified array after slicing: [[ 1 10 20]\n",
      " [ 4 30 40]\n",
      " [ 7  8  9]]\n"
     ]
    }
   ],
   "source": [
    "# Create a 2D array\n",
    "arr = np.array([[1, 2, 3],\n",
    "                [4, 5, 6],\n",
    "                [7, 8, 9]])\n",
    "\n",
    "# Slice elements from rows 0 to 1 (exclusive) and columns 1 to 2 (exclusive)\n",
    "print(\"Slice:\", arr[0:2, 1:3])\n",
    "\n",
    "\n",
    "# Modify slice\n",
    "arr[0:2, 1:3] = [[10, 20], [30, 40]]\n",
    "print(\"Modified array after slicing:\", arr)"
   ]
  },
  {
   "cell_type": "markdown",
   "metadata": {},
   "source": [
    "**3. Negative Indexing:**\n",
    "\n",
    "Negative indexing can also be used in 2D arrays to access elements from the end of the array."
   ]
  },
  {
   "cell_type": "code",
   "execution_count": 108,
   "metadata": {},
   "outputs": [
    {
     "name": "stdout",
     "output_type": "stream",
     "text": [
      "Last element: 9\n"
     ]
    }
   ],
   "source": [
    "# Create a 2D array\n",
    "arr = np.array([[1, 2, 3],\n",
    "                [4, 5, 6],\n",
    "                [7, 8, 9]])\n",
    "\n",
    "# Access the last element using negative indexing\n",
    "print(\"Last element:\", arr[-1, -1])  # Output: 9"
   ]
  },
  {
   "cell_type": "markdown",
   "metadata": {},
   "source": [
    "**4. Slicing with Omitted Indices:**\n",
    "\n",
    "You can omit any of the slicing parameters to use default values. Omitting `start` defaults to 0, omitting `stop` defaults to the end of the array, and omitting `step` defaults to 1."
   ]
  },
  {
   "cell_type": "code",
   "execution_count": 109,
   "metadata": {},
   "outputs": [
    {
     "name": "stdout",
     "output_type": "stream",
     "text": [
      "Slice with omitted start and stop: [[4 5 6]\n",
      " [7 8 9]]\n",
      "Slice with omitted step: [[1]\n",
      " [4]\n",
      " [7]]\n"
     ]
    }
   ],
   "source": [
    "# Create a 2D array\n",
    "arr = np.array([[1, 2, 3],\n",
    "                [4, 5, 6],\n",
    "                [7, 8, 9]])\n",
    "\n",
    "# Slice elements from rows 1 to the end and all columns\n",
    "print(\"Slice with omitted start and stop:\", arr[1:])\n",
    "\n",
    "# Slice elements from all rows and columns 0 to 1 (exclusive) with step size 2\n",
    "print(\"Slice with omitted step:\", arr[:, 0:2:2])"
   ]
  },
  {
   "cell_type": "markdown",
   "metadata": {},
   "source": [
    "## Playing with Arrays"
   ]
  },
  {
   "cell_type": "markdown",
   "metadata": {},
   "source": [
    "**1. Transposing Arrays:**\n",
    "\n",
    "Transposing an array means exchanging its rows and columns. In NumPy, you can transpose an array using the `T` attribute or the `transpose()` function."
   ]
  },
  {
   "cell_type": "code",
   "execution_count": 110,
   "metadata": {},
   "outputs": [
    {
     "name": "stdout",
     "output_type": "stream",
     "text": [
      "Transposed array:\n",
      "[[1 4]\n",
      " [2 5]\n",
      " [3 6]]\n"
     ]
    }
   ],
   "source": [
    "# Create a 2D array\n",
    "arr_2d = np.array([[1, 2, 3],\n",
    "                    [4, 5, 6]])\n",
    "\n",
    "# Transpose the array\n",
    "transposed_arr = arr_2d.T\n",
    "print(\"Transposed array:\")\n",
    "print(transposed_arr)"
   ]
  },
  {
   "cell_type": "markdown",
   "metadata": {},
   "source": [
    "**2. Swapping Axes:**\n",
    "\n",
    "Swapping axes means rearranging the dimensions of an array. You can swap axes using the `swapaxes()` function."
   ]
  },
  {
   "cell_type": "code",
   "execution_count": 111,
   "metadata": {},
   "outputs": [
    {
     "name": "stdout",
     "output_type": "stream",
     "text": [
      "Swapped array:\n",
      "[[1 4]\n",
      " [2 5]\n",
      " [3 6]]\n"
     ]
    }
   ],
   "source": [
    "# Create a 2D array\n",
    "arr_2d = np.array([[1, 2, 3],\n",
    "                    [4, 5, 6]])\n",
    "\n",
    "# Swap axes\n",
    "swapped_arr = arr_2d.swapaxes(0,1)\n",
    "print(\"Swapped array:\")\n",
    "print(swapped_arr)"
   ]
  },
  {
   "cell_type": "markdown",
   "metadata": {},
   "source": [
    "**3. Pseudo-random Number Generation:**\n",
    "\n",
    "NumPy provides various functions for generating pseudo-random numbers. These functions are located in the `numpy.random` module. You can generate random numbers from different distributions, such as uniform, normal, binomial, etc."
   ]
  },
  {
   "cell_type": "code",
   "execution_count": 112,
   "metadata": {},
   "outputs": [
    {
     "name": "stdout",
     "output_type": "stream",
     "text": [
      "Random integers (1D): [5 2 6 9 6]\n",
      "Random numbers from normal distribution (1D): [-1.75051324  0.87108052  0.40417441  0.8303278  -0.17934444]\n"
     ]
    }
   ],
   "source": [
    "# Pseudo-random Number Generation in 1D Array:\n",
    "\n",
    "# Generate 5 random integers between 1 and 10\n",
    "random_integers = np.random.randint(1, 10, size=5)\n",
    "print(\"Random integers (1D):\", random_integers)\n",
    "\n",
    "# Generate 5 random numbers from a normal distribution\n",
    "random_normal = np.random.normal(size=5)\n",
    "print(\"Random numbers from normal distribution (1D):\", random_normal)"
   ]
  },
  {
   "cell_type": "code",
   "execution_count": 113,
   "metadata": {},
   "outputs": [
    {
     "name": "stdout",
     "output_type": "stream",
     "text": [
      "Random integers (2D):\n",
      "[[7 9 2]\n",
      " [7 4 9]\n",
      " [8 8 7]]\n",
      "Random numbers from normal distribution (2D):\n",
      "[[-0.23415556 -0.60817243  1.41482822]\n",
      " [-2.8701745  -0.89920373  1.6542656 ]\n",
      " [ 0.40375716  0.74105997 -0.2603282 ]]\n"
     ]
    }
   ],
   "source": [
    "# Pseudo-random Number Generation in 2D Array:\n",
    "\n",
    "# Generate a 2D array of shape (3, 3) with random integers between 1 and 10\n",
    "random_integers_2d = np.random.randint(1, 10, size=(3, 3))\n",
    "print(\"Random integers (2D):\")\n",
    "print(random_integers_2d)\n",
    "\n",
    "# Generate a 2D array of shape (3, 3) with random numbers from a normal distribution\n",
    "random_normal_2d = np.random.normal(size=(3, 3))\n",
    "print(\"Random numbers from normal distribution (2D):\")\n",
    "print(random_normal_2d)"
   ]
  },
  {
   "cell_type": "markdown",
   "metadata": {},
   "source": [
    "## Operations on 2D Arrays"
   ]
  },
  {
   "cell_type": "markdown",
   "metadata": {},
   "source": [
    "**1. Matrix Multiplication (`np.matmul()`):**\n",
    "\n",
    "Matrix multiplication is a fundamental operation in linear algebra, where you multiply two matrices to obtain a new matrix. In NumPy, you can perform matrix multiplication using the `np.matmul()` function."
   ]
  },
  {
   "cell_type": "code",
   "execution_count": 114,
   "metadata": {},
   "outputs": [
    {
     "name": "stdout",
     "output_type": "stream",
     "text": [
      "Matrix Multiplication:\n",
      "[[19 22]\n",
      " [43 50]]\n"
     ]
    }
   ],
   "source": [
    "# Define matrices\n",
    "matrix_a = np.array([[1, 2], [3, 4]])\n",
    "matrix_b = np.array([[5, 6], [7, 8]])\n",
    "\n",
    "# Matrix multiplication using np.matmul()\n",
    "result = np.matmul(matrix_a, matrix_b)\n",
    "print(\"Matrix Multiplication:\")\n",
    "print(result)"
   ]
  },
  {
   "cell_type": "markdown",
   "metadata": {},
   "source": [
    "**2. Reshaping (`np.reshape()`):**\n",
    "\n",
    "Reshaping an array means changing the shape of the array without changing its data. It's useful for converting arrays between different dimensions or rearranging their layout."
   ]
  },
  {
   "cell_type": "code",
   "execution_count": 115,
   "metadata": {},
   "outputs": [
    {
     "name": "stdout",
     "output_type": "stream",
     "text": [
      "[1 2 3 4 5 6 7 8 9]\n",
      "Reshaped array:\n",
      "[[1 2 3]\n",
      " [4 5 6]\n",
      " [7 8 9]]\n"
     ]
    }
   ],
   "source": [
    "# Reshaping an array\n",
    "arr = np.arange(1, 10)  # 1D array from 1 to 9\n",
    "print(arr)\n",
    "reshaped_arr = arr.reshape((3, 3))  # Reshape to a 3x3 matrix\n",
    "print(\"Reshaped array:\")\n",
    "print(reshaped_arr)"
   ]
  },
  {
   "cell_type": "markdown",
   "metadata": {},
   "source": [
    "**3. Transpose (`np.transpose()`):**\n",
    "\n",
    "Transposing a matrix means flipping its rows with its columns. In NumPy, you can obtain the transpose of a matrix using the `np.transpose()` function or the `.T` attribute."
   ]
  },
  {
   "cell_type": "code",
   "execution_count": 116,
   "metadata": {},
   "outputs": [
    {
     "name": "stdout",
     "output_type": "stream",
     "text": [
      "Transposed matrix:\n",
      "[[1 4]\n",
      " [2 5]\n",
      " [3 6]]\n"
     ]
    }
   ],
   "source": [
    "# Transposing a matrix\n",
    "matrix = np.array([[1, 2, 3],\n",
    "                   [4, 5, 6]])\n",
    "transposed_matrix = np.transpose(matrix)\n",
    "print(\"Transposed matrix:\")\n",
    "print(transposed_matrix)"
   ]
  },
  {
   "cell_type": "markdown",
   "metadata": {},
   "source": [
    "**4. Aggregate Functions:**\n",
    "\n",
    "Aggregate functions in NumPy are functions that operate on arrays and return a single value, summarizing the data in some way. Common aggregate functions include `np.sum()`, `np.max()`, `np.min()`, `np.mean()`, etc."
   ]
  },
  {
   "cell_type": "code",
   "execution_count": 117,
   "metadata": {},
   "outputs": [
    {
     "name": "stdout",
     "output_type": "stream",
     "text": [
      "Sum of all elements: 21\n",
      "Maximum element: 6\n",
      "Minimum element: 1\n",
      "Mean of all elements: 3.5\n"
     ]
    }
   ],
   "source": [
    "# Aggregate functions\n",
    "matrix = np.array([[1, 2, 3],\n",
    "                   [4, 5, 6]])\n",
    "\n",
    "print(\"Sum of all elements:\", np.sum(matrix))  # Output: 21\n",
    "print(\"Maximum element:\", np.max(matrix))  # Output: 6\n",
    "print(\"Minimum element:\", np.min(matrix))  # Output: 1\n",
    "print(\"Mean of all elements:\", np.mean(matrix))  # Output: 3.5"
   ]
  },
  {
   "cell_type": "markdown",
   "metadata": {},
   "source": [
    "## Some important functions"
   ]
  },
  {
   "cell_type": "markdown",
   "metadata": {},
   "source": [
    "**1. Statistical Functions:**"
   ]
  },
  {
   "cell_type": "code",
   "execution_count": 118,
   "metadata": {},
   "outputs": [
    {
     "name": "stdout",
     "output_type": "stream",
     "text": [
      "Mean: 3.0\n",
      "Standard Deviation: 1.4142135623730951\n"
     ]
    }
   ],
   "source": [
    "# Statistical functions\n",
    "arr = np.array([1, 2, 3, 4, 5])\n",
    "\n",
    "# Mean\n",
    "result_mean = np.mean(arr)\n",
    "print(\"Mean:\", result_mean)\n",
    "\n",
    "# Standard deviation\n",
    "result_std = np.std(arr)\n",
    "print(\"Standard Deviation:\", result_std)"
   ]
  },
  {
   "cell_type": "markdown",
   "metadata": {},
   "source": [
    "**2. reshape:** The reshape method returns a new array with the specified shape, without changing the data."
   ]
  },
  {
   "cell_type": "code",
   "execution_count": 119,
   "metadata": {},
   "outputs": [
    {
     "name": "stdout",
     "output_type": "stream",
     "text": [
      "Original array: [ 0  1  2  3  4  5  6  7  8  9 10 11]\n",
      "Reshaped array:\n",
      " [[ 0  1  2  3]\n",
      " [ 4  5  6  7]\n",
      " [ 8  9 10 11]]\n"
     ]
    }
   ],
   "source": [
    "# Create a one-dimensional array of 12 elements\n",
    "a = np.arange(12)\n",
    "print(\"Original array:\", a)\n",
    "\n",
    "# Reshape it to a 3x4 two-dimensional array\n",
    "b = a.reshape(3,4)\n",
    "print(\"Reshaped array:\\n\", b)"
   ]
  },
  {
   "cell_type": "markdown",
   "metadata": {},
   "source": [
    "**3. resize:** The resize method changes the shape and size of an array in-place. This method can alter the original array and fill in with repeated copies of a if the new array is larger than the original."
   ]
  },
  {
   "cell_type": "code",
   "execution_count": 120,
   "metadata": {},
   "outputs": [
    {
     "name": "stdout",
     "output_type": "stream",
     "text": [
      "Resized array:\n",
      " [[0 1 2 3 4 5]\n",
      " [6 7 8 9 0 0]]\n"
     ]
    }
   ],
   "source": [
    "# Resize the array in-place to 2x6\n",
    "a = np.arange(10)\n",
    "a.resize(2, 6)\n",
    "print(\"Resized array:\\n\", a)"
   ]
  },
  {
   "cell_type": "markdown",
   "metadata": {},
   "source": [
    "**4. ravel:** The ravel method returns a flattened one-dimensional array. It's a convenient way to convert any multi-dimensional array into a flat 1D array."
   ]
  },
  {
   "cell_type": "code",
   "execution_count": 121,
   "metadata": {},
   "outputs": [
    {
     "name": "stdout",
     "output_type": "stream",
     "text": [
      "[[ 0  1  2  3]\n",
      " [ 4  5  6  7]\n",
      " [ 8  9 10 11]]\n",
      "Flattened array: [ 0  1  2  3  4  5  6  7  8  9 10 11]\n"
     ]
    }
   ],
   "source": [
    "# Flatten the 3x4 array to a one-dimensional array\n",
    "print(b)\n",
    "flat = b.ravel()\n",
    "print(\"Flattened array:\", flat)"
   ]
  },
  {
   "cell_type": "markdown",
   "metadata": {},
   "source": [
    "**5. flatten:** Similar to ravel, but flatten returns a copy instead of a view of the original data, thus not affecting the original array."
   ]
  },
  {
   "cell_type": "code",
   "execution_count": 122,
   "metadata": {},
   "outputs": [
    {
     "name": "stdout",
     "output_type": "stream",
     "text": [
      "[[ 0  1  2  3]\n",
      " [ 4  5  6  7]\n",
      " [ 8  9 10 11]]\n",
      "Flattened array copy: [ 0  1  2  3  4  5  6  7  8  9 10 11]\n"
     ]
    }
   ],
   "source": [
    "# Create a copy of flattened array\n",
    "print(b)\n",
    "flat_copy = b.flatten()\n",
    "print(\"Flattened array copy:\", flat_copy)"
   ]
  },
  {
   "cell_type": "markdown",
   "metadata": {},
   "source": [
    "**6. np.append:** Adds elements to the end of an array."
   ]
  },
  {
   "cell_type": "code",
   "execution_count": 123,
   "metadata": {},
   "outputs": [
    {
     "name": "stdout",
     "output_type": "stream",
     "text": [
      "Appended array: [1 2 3 7 8]\n"
     ]
    }
   ],
   "source": [
    "# Append elements to the array\n",
    "a = np.array([1, 2, 3])\n",
    "appended = np.append(a, [7, 8])\n",
    "print(\"Appended array:\", appended)"
   ]
  },
  {
   "cell_type": "markdown",
   "metadata": {},
   "source": [
    "**7. np.insert:** Inserts elements at a specific position in the array."
   ]
  },
  {
   "cell_type": "code",
   "execution_count": 124,
   "metadata": {},
   "outputs": [
    {
     "name": "stdout",
     "output_type": "stream",
     "text": [
      "Array with inserted elements: [ 1  9 10  2  3]\n"
     ]
    }
   ],
   "source": [
    "# Insert elements into the array\n",
    "inserted = np.insert(a, 1, [9, 10])\n",
    "print(\"Array with inserted elements:\", inserted)"
   ]
  },
  {
   "cell_type": "markdown",
   "metadata": {},
   "source": [
    "**8. np.delete:** Removes elements at a specific position from the array."
   ]
  },
  {
   "cell_type": "code",
   "execution_count": 125,
   "metadata": {},
   "outputs": [
    {
     "name": "stdout",
     "output_type": "stream",
     "text": [
      "Array after deleting element at index 2: [1 2 4 5]\n",
      "Array after deleting elements at indices 0 and 3: [2 3 5]\n"
     ]
    }
   ],
   "source": [
    "# Create a one-dimensional array\n",
    "a = np.array([1, 2, 3, 4, 5])\n",
    "\n",
    "# Delete the element at index 2\n",
    "result = np.delete(a, 2)\n",
    "print(\"Array after deleting element at index 2:\", result)\n",
    "\n",
    "\n",
    "# Delete multiple elements\n",
    "result = np.delete(a, [0, 3])\n",
    "print(\"Array after deleting elements at indices 0 and 3:\", result)"
   ]
  }
 ],
 "metadata": {
  "kernelspec": {
   "display_name": "Python 3",
   "language": "python",
   "name": "python3"
  },
  "language_info": {
   "codemirror_mode": {
    "name": "ipython",
    "version": 3
   },
   "file_extension": ".py",
   "mimetype": "text/x-python",
   "name": "python",
   "nbconvert_exporter": "python",
   "pygments_lexer": "ipython3",
   "version": "3.11.7"
  }
 },
 "nbformat": 4,
 "nbformat_minor": 2
}
